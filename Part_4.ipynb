{
 "cells": [
  {
   "cell_type": "markdown",
   "metadata": {},
   "source": [
    "# Part Ⅳ: Decompounded Options"
   ]
  },
  {
   "cell_type": "markdown",
   "metadata": {},
   "source": [
    "### Import packages"
   ]
  },
  {
   "cell_type": "code",
   "execution_count": 1,
   "metadata": {},
   "outputs": [],
   "source": [
    "import numpy as np\n",
    "import pandas as pd\n",
    "from scipy.stats import norm\n",
    "from scipy.integrate import quad\n",
    "import matplotlib.pylab as plt\n",
    "from math import log, sqrt, exp\n",
    "import warnings\n",
    "warnings.filterwarnings(\"ignore\")"
   ]
  },
  {
   "cell_type": "markdown",
   "metadata": {},
   "source": [
    " # <a id = \"top\">Contents</a>"
   ]
  },
  {
   "cell_type": "markdown",
   "metadata": {},
   "source": [
    "# [1. Define Functions and Models](#p1)\n",
    "# [2. CMS Rate](#p2)\n",
    "# [3. CMS Caplet](#p3)"
   ]
  },
  {
   "cell_type": "markdown",
   "metadata": {},
   "source": [
    "#  <a id = \"p1\"> 1.<font color = \"green\">Define Functions and Models [(back to contents)](#top)"
   ]
  },
  {
   "cell_type": "markdown",
   "metadata": {},
   "source": [
    "### A decompounded option pays the following at time T = 5y:\n",
    "### <center color = black>$$\\text{CMS}  10Y^{1/p} - 0.04^{1/q}$$\n",
    "where p = 4 and q = 2. Use static replication to value the PV of this payoff."
   ]
  },
  {
   "cell_type": "markdown",
   "metadata": {},
   "source": [
    "For static replication of any constant maturity swap (CMS) payoff $g(F)$, where $F$ is the swap rate, we use the following formula:\n",
    "\n",
    "  \\begin{equation*}\n",
    "    \\begin{split}\n",
    "      V_0 &= D(0,T) g(F) + h'(F)[V^{pay}(F)-V^{rec}(F)] \\\\\n",
    "      &\\;\\;\\;\\;\\;\\;\\;\\;\\;\\;+ \\int_0^F h''(K) V^{rec}(K) dK +\n",
    "      \\int_F^\\infty h''(K) V^{pay}(K) dK\n",
    "    \\end{split}\n",
    "  \\end{equation*}\n",
    "\n",
    "where\n",
    "\n",
    "  \\begin{equation*}\n",
    "    \\begin{split}\n",
    "      h(K) &= \\frac{g(K)}{\\mbox{IRR}(K)} \\\\\n",
    "      h'(K) &= \\frac{\\mbox{IRR}(K)g'(K) - g(K)\\mbox{IRR}'(K)}{\\mbox{IRR}(K)^2} \\\\\n",
    "      h''(K) &= \\frac{\\mbox{IRR}(K)g''(K)-\\mbox{IRR}''(K)g(K) -2\\cdot\\mbox{IRR}'(K)g'(K)}{\\mbox{IRR}(K)^2} \\\\\n",
    "      &\\;\\;\\;\\;\\;\\;\\;\\;\\;\\;+\n",
    "      \\frac{2\\cdot\\mbox{IRR}'(K)^2g(K)}{\\mbox{IRR}(K)^3}.\n",
    "    \\end{split}\n",
    "  \\end{equation*}\n",
    "  \n",
    "For CMS rate payoff, the payoff function can be defined simply as $g(F)=F$, and the static replication formula simplifies into:\n",
    "\n",
    "  \\begin{equation*}\n",
    "    \\begin{split}\n",
    "      D(0,T) F + \\int_0^F h''(K) V^{rec}(K) dK + \\int_F^\\infty h''(K) V^{pay}(K) dK\n",
    "    \\end{split}\n",
    "  \\end{equation*}\n",
    "\n",
    "We can implement this in Python. First we define the IRR functions."
   ]
  },
  {
   "cell_type": "markdown",
   "metadata": {},
   "source": [
    "Let $m$ denote the payment frequenc ($m=2$ for semi-annual payment frequency), and let $N = T_N-T_n$ denote the tenor of the swap (number of years), the partial derivatives on the IRR function $\\mbox{IRR}(S)$ given by:\n",
    "\\begin{equation*}\n",
    "\\begin{split}\n",
    "\\mbox{IRR}(K)&=\\sum_{i=1}^{N\\times m}\\frac{1}{(1+\\frac{K}{m})^i}=\\frac{1}{K}\\left[1-\\frac{1}{\\left(1+\\frac{K}{m}\\right)^{N\\times m}}\\right]\\\\\n",
    "\\mbox{IRR}'(K)&=-\\frac{1}{K}\\mbox{IRR}(K)\n",
    "+\\frac{1}{m\\times K}\\frac{N\\times m}{\\left(1+\\frac{K}{m}\\right)^{N\\times m+1}} \\\\\n",
    "\\mbox{IRR}''(K)&=-\\frac{2}{K}\\mbox{IRR}'(K)\n",
    "-\\frac{1}{m^2\\times K}\\frac{N\\times m\\cdot (N\\times m+1)}{\\left(1+\\frac{K}{m}\\right)^{N\\times m+2}} \\\\\n",
    "\\end{split}\n",
    "\\end{equation*}\n",
    "\n",
    "These results will need to be generalised to handle the case for $m=2$ to be consistent with the semi-annual payment frequency swap market data provided.\n"
   ]
  },
  {
   "cell_type": "code",
   "execution_count": 2,
   "metadata": {},
   "outputs": [],
   "source": [
    "def IRR_0(K, m, N):\n",
    "    # implementation of IRR(K) function\n",
    "    value = 1/K * ( 1.0 - 1/(1 + K/m)**(N*m) )\n",
    "    return value\n",
    "\n",
    "def IRR_1(K, m, N):\n",
    "    # implementation of IRR'(K) function (1st derivative)\n",
    "    firstDerivative = -1/K*IRR_0(K, m, N) + 1/(K*m)*N*m/(1+K/m)**(N*m+1)\n",
    "    return firstDerivative\n",
    "\n",
    "def IRR_2(K, m, N):\n",
    "    # implementation of IRR''(K) function (2nd derivative)\n",
    "    secondDerivative = -2/K*IRR_1(K, m, N) - 1/(K*m*m)*(N*m)*(N*m+1)/(1+K/m)**(N*m+2)\n",
    "    return secondDerivative\n"
   ]
  },
  {
   "cell_type": "markdown",
   "metadata": {},
   "source": [
    "#### Adjust the formula of g(F)"
   ]
  },
  {
   "cell_type": "markdown",
   "metadata": {},
   "source": [
    "For CMS rate payment, since $g(F)=F$, we have the derivatives:\n",
    "\n",
    "\\begin{equation*}\n",
    "\\begin{split}\n",
    "g(K) &= K^{1/4} - 0.04^{1/2} \\\\\n",
    "g'(K) &= 1/4*K^{-3/4} \\\\\n",
    "g''(K) &= -3/16*K^{-7/4}\n",
    "\\end{split}\n",
    "\\end{equation*}"
   ]
  },
  {
   "cell_type": "code",
   "execution_count": 3,
   "metadata": {},
   "outputs": [],
   "source": [
    "def g_0(K):\n",
    "    return K**(1/4)-0.2\n",
    "\n",
    "def g_1(K):\n",
    "    return (1/4)*K**(-3/4)\n",
    "\n",
    "def g_2(K):\n",
    "    return (-3/16)*K**(-7/4)"
   ]
  },
  {
   "cell_type": "markdown",
   "metadata": {},
   "source": [
    "The function $h(K) = g(K)/IRR(K)$ now simplies into:  \n",
    "  \n",
    "  \\begin{equation*}\n",
    "    \\begin{split}\n",
    "      h(K) &= \\frac{g(K)}{\\mbox{IRR}(K)} \\\\\n",
    "      h'(K) &= \\frac{\\mbox{IRR}(K)g'(K) - g(K)\\mbox{IRR}'(K)}{\\mbox{IRR}(K)^2} \\\\\n",
    "      h''(K) &= \\frac{\\mbox{IRR}(K)g''(K)-\\mbox{IRR}''(K)g(K) -2\\cdot\\mbox{IRR}'(K)g'(K)}{\\mbox{IRR}(K)^2} \\\\\n",
    "      &\\;\\;\\;\\;\\;\\;\\;\\;\\;\\;+\n",
    "      \\frac{2\\cdot\\mbox{IRR}'(K)^2g(K)}{\\mbox{IRR}(K)^3}.\n",
    "    \\end{split}\n",
    "  \\end{equation*}\n"
   ]
  },
  {
   "cell_type": "code",
   "execution_count": 4,
   "metadata": {},
   "outputs": [],
   "source": [
    "def h_0(K, m, N):\n",
    "    # implementation of h(K)\n",
    "    value = g_0(K) / IRR_0(K, m, N)\n",
    "    return value\n",
    "\n",
    "def h_1(K, m, N):\n",
    "    # implementation of h'(K) (1st derivative)\n",
    "    firstDerivative = (IRR_0(K, m, N)*g_1(K) - g_0(K)*IRR_1(K, m, N)) / IRR_0(K, m, N)**2\n",
    "    return firstDerivative\n",
    "\n",
    "def h_2(K, m, N):\n",
    "    # implementation of h''(K) (2nd derivative)\n",
    "    secondDerivative = ((IRR_0(K, m, N)*g_2(K) - IRR_2(K, m, N)*g_0(K) - 2.0*IRR_1(K, m, N)*g_1(K))/IRR_0(K, m, N)**2 \n",
    "                        + 2.0*IRR_1(K, m, N)**2*g_0(K)/IRR_0(K, m, N)**3)\n",
    "    return secondDerivative"
   ]
  },
  {
   "cell_type": "code",
   "execution_count": 5,
   "metadata": {},
   "outputs": [],
   "source": [
    "def BlackScholes76Call(S, K, r, sigma, T):\n",
    "    d1 = (np.log(S/K)+(sigma**2/2)*T) / (sigma*np.sqrt(T))\n",
    "    d2 = d1 - sigma*np.sqrt(T)\n",
    "    return S*norm.cdf(d1) - K*np.exp(-r*T)*norm.cdf(d2)\n",
    "def BlackScholes76Put(S, K, r, sigma, T):\n",
    "    d1 = (np.log(S/K)+(sigma**2/2)*T) / (sigma*np.sqrt(T))\n",
    "    d2 = d1 - sigma*np.sqrt(T)\n",
    "    return K*np.exp(-r*T)*norm.cdf(-d2) - S*norm.cdf(-d1)\n",
    "\n",
    "def SABR(F, K, T, alpha, beta, rho, nu):\n",
    "    X = K\n",
    "    if F == K:\n",
    "        numer1 = (((1 - beta)**2)/24)*alpha*alpha/(F**(2 - 2*beta))\n",
    "        numer2 = 0.25*rho*beta*nu*alpha/(F**(1 - beta))\n",
    "        numer3 = ((2 - 3*rho*rho)/24)*nu*nu\n",
    "        VolAtm = alpha*(1 + (numer1 + numer2 + numer3)*T)/(F**(1-beta))\n",
    "        sabrsigma = VolAtm\n",
    "    else:\n",
    "        z = (nu/alpha)*((F*X)**(0.5*(1-beta)))*np.log(F/X)\n",
    "        zhi = np.log((((1 - 2*rho*z + z*z)**0.5) + z - rho)/(1 - rho))\n",
    "        numer1 = (((1 - beta)**2)/24)*((alpha*alpha)/((F*X)**(1 - beta)))\n",
    "        numer2 = 0.25*rho*beta*nu*alpha/((F*X)**((1 - beta)/2))\n",
    "        numer3 = ((2 - 3*rho*rho)/24)*nu*nu\n",
    "        numer = alpha*(1 + (numer1 + numer2 + numer3)*T)*z\n",
    "        denom1 = ((1 - beta)**2/24)*(np.log(F/X))**2\n",
    "        denom2 = (((1 - beta)**4)/1920)*((np.log(F/X))**4)\n",
    "        denom = ((F*X)**((1 - beta)/2))*(1 + denom1 + denom2)*zhi\n",
    "        sabrsigma = numer/denom\n",
    "    return sabrsigma"
   ]
  },
  {
   "cell_type": "code",
   "execution_count": 6,
   "metadata": {},
   "outputs": [],
   "source": [
    "def integral_rec(x,N,m,F,disc,sigma,T):\n",
    "    h = h_2(x, m, N)\n",
    "    Vrec=BlackScholes76Put(F, x, disc, sigma, T)\n",
    "    return h*Vrec\n",
    "\n",
    "def integral_pay(x,N,m,F,disc,sigma,T): \n",
    "    h = h_2(x, m, N)\n",
    "    Vpay=BlackScholes76Call(F, x, disc, sigma, T)\n",
    "    return h*Vpay"
   ]
  },
  {
   "cell_type": "markdown",
   "metadata": {},
   "source": [
    "We will also need to implement the IRR-settled payer and receiver swaption formulae:\n",
    "\n",
    "  \\begin{equation*}\n",
    "    \\begin{split}\n",
    "      V^{pay}_{n,N}(0) &= D(0,T_n) \\cdot \\mbox{IRR}(S_{n,N}(0)) \\cdot \\mbox{Black76Call}(S_{n,N}(0),K,\\sigma_{n,N},T) \\\\\n",
    "      V^{rec}_{n,N}(0) &= D(0,T_n) \\cdot \\mbox{IRR}(S_{n,N}(0)) \\cdot \\mbox{Black76Put}(S_{n,N}(0),K,\\sigma_{n,N},T) \\\\\n",
    "    \\end{split}\n",
    "  \\end{equation*}\n",
    "\n",
    "where $S_{n,N}(0)=F$ is today's forward swap rate calculated based on the curves we bootstrapped, and $\\sigma_{n,N}$ is the SABR implied volatility calibrated to swaption market data."
   ]
  },
  {
   "cell_type": "markdown",
   "metadata": {},
   "source": [
    "#  <a id = \"p2\"> 2.<font color = \"green\">CMS Rate [(back to contents)](#top)"
   ]
  },
  {
   "cell_type": "markdown",
   "metadata": {},
   "source": [
    "\\begin{equation*}\n",
    "    \\begin{split}\n",
    "      D(0,T) g(F) + \\int_0^F h''(K) V^{rec}(K) dK + \\int_F^\\infty h''(K) V^{pay}(K) dK\n",
    "    \\end{split}\n",
    "  \\end{equation*}"
   ]
  },
  {
   "cell_type": "code",
   "execution_count": 7,
   "metadata": {},
   "outputs": [],
   "source": [
    "IRS = pd.read_excel(\"IRS_data_final.xlsx\")\n",
    "FSR = pd.read_excel(\"Forward Swap Rate.xlsx\")\n",
    "df_sigma = pd.read_csv('df_sigma.csv')"
   ]
  },
  {
   "cell_type": "code",
   "execution_count": 8,
   "metadata": {},
   "outputs": [],
   "source": [
    "p = 4\n",
    "q = 2\n",
    "\n",
    "# F is CMS 5*10Y\n",
    "# DF is discount factor\n",
    "\n",
    "F = FSR.iloc[9]['Forward Swap Rate']\n",
    "DF = IRS.iloc[9]['ON_DF']\n",
    "sigmasabr = df_sigma.loc[9, 'sigma']"
   ]
  },
  {
   "cell_type": "code",
   "execution_count": 9,
   "metadata": {},
   "outputs": [],
   "source": [
    "Alpha = pd.read_excel('Part2_SABR.xlsx',sheet_name = 'Alpha')\n",
    "Rho = pd.read_excel('Part2_SABR.xlsx',sheet_name = 'Rho')\n",
    "Nu = pd.read_excel('Part2_SABR.xlsx',sheet_name = 'Nu')"
   ]
  },
  {
   "cell_type": "code",
   "execution_count": 10,
   "metadata": {},
   "outputs": [],
   "source": [
    "alpha = Alpha.iloc[1].iloc[4]\n",
    "rho = Rho.iloc[1].iloc[4]\n",
    "nu = Nu.iloc[1].iloc[4]"
   ]
  },
  {
   "cell_type": "code",
   "execution_count": 11,
   "metadata": {},
   "outputs": [
    {
     "name": "stdout",
     "output_type": "stream",
     "text": [
      "The CMS Rate payment is:  0.2497\n"
     ]
    }
   ],
   "source": [
    "term2 = quad(lambda x: integral_rec(x, 10, 2, F, 0, SABR(F, x, 5, alpha, 0.9, rho, nu), 5), 0, F)\n",
    "term3 = quad(lambda x: integral_pay(x, 10, 2, F, 0, SABR(F, x, 5, alpha, 0.9, rho, nu), 5), F, 1e3)\n",
    "PV_1 = g_0(F) * DF + np.sum(term2 + term3)\n",
    "print('The CMS Rate payment is: ', round(PV_1,4))"
   ]
  },
  {
   "cell_type": "markdown",
   "metadata": {},
   "source": [
    "#  <a id = \"p3\"> 3.<font color = \"green\"> CMS Caplet [(back to contents)](#top)"
   ]
  },
  {
   "cell_type": "markdown",
   "metadata": {},
   "source": [
    "\\begin{equation*}\n",
    "    \\begin{split}\n",
    "      \\ h'(L) V^{pay}(L)+ \\int_F^\\infty h''(K) V^{pay}(K) dK\n",
    "    \\end{split}\n",
    "  \\end{equation*}"
   ]
  },
  {
   "cell_type": "markdown",
   "metadata": {},
   "source": [
    "where:\n",
    "\\begin{align*}\n",
    "F^{\\frac{1}{4}} &> 0.2 \\\\\n",
    "F &> 0.2^4 \\\\\n",
    "F &> 0.0016 = L\n",
    "\\end{align*}"
   ]
  },
  {
   "cell_type": "code",
   "execution_count": 12,
   "metadata": {},
   "outputs": [
    {
     "name": "stdout",
     "output_type": "stream",
     "text": [
      "The CMS Caplet payment is:  0.0349\n"
     ]
    }
   ],
   "source": [
    "L = 0.0016\n",
    "term_1 = h_1(L, 2, 10) * BlackScholes76Call(F, L, 0, SABR(F, L, 5, alpha, 0.9, rho, nu),5)\n",
    "term_2 = quad(lambda x: h_2(x, 2, 10) * BlackScholes76Call(F, x, 0, SABR(F, x, 5, alpha, 0.9, rho, nu),5), L, 1e3)\n",
    "caplet = term_1 + term_2[0]\n",
    "print('The CMS Caplet payment is: ', round(caplet,4))"
   ]
  },
  {
   "cell_type": "code",
   "execution_count": null,
   "metadata": {},
   "outputs": [],
   "source": []
  }
 ],
 "metadata": {
  "kernelspec": {
   "display_name": "Python 3 (ipykernel)",
   "language": "python",
   "name": "python3"
  },
  "language_info": {
   "codemirror_mode": {
    "name": "ipython",
    "version": 3
   },
   "file_extension": ".py",
   "mimetype": "text/x-python",
   "name": "python",
   "nbconvert_exporter": "python",
   "pygments_lexer": "ipython3",
   "version": "3.11.4"
  }
 },
 "nbformat": 4,
 "nbformat_minor": 4
}
